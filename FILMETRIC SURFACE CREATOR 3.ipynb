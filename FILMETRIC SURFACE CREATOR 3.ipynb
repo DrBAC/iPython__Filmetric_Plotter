{
 "cells": [
  {
   "cell_type": "markdown",
   "metadata": {},
   "source": [
    "## THIS IS FOR ANALYSIS OF FILMETRICS DATA - CREATING SURFACES AND ULTIMATELY LISTING DATA COLLECTED ON F50"
   ]
  },
  {
   "cell_type": "code",
   "execution_count": 1,
   "metadata": {
    "collapsed": false,
    "scrolled": true
   },
   "outputs": [
    {
     "name": "stderr",
     "output_type": "stream",
     "text": [
      "C:\\Users\\ben.coombs\\Local_Docs\\WinPython\\python-3.4.3\\lib\\site-packages\\pandas\\core\\indexing.py:1465: FutureWarning: slice indexers when using iloc should be integers and not floating point\n",
      "  retval = getattr(retval, self.name)._getitem_axis(key, axis=axis)\n"
     ]
    }
   ],
   "source": [
    "import pandas as pd\n",
    "import sys\n",
    "import numpy as np\n",
    "import os\n",
    "from mpl_toolkits.mplot3d import Axes3D\n",
    "from matplotlib import cm\n",
    "from matplotlib.ticker import LinearLocator, FormatStrFormatter\n",
    "import matplotlib.pyplot as plt\n",
    "import pylab\n",
    "from scipy.interpolate import griddata\n",
    "import csv\n",
    "#from mpl_toolkits.mplot3d import Axes3D\n",
    "\n",
    "path = '../RAW_DATA_FOR_BENCHMARKING_TRIALLING/FIMAPS/Plate 1-25.fimap'\n",
    "title = path.split('/')[-1]\n",
    "rootpath = path.split('/')[:-1]\n",
    "\n",
    "datafile = pd.read_csv(path,names=['Col1','Col2','Col3','Col4',\n",
    "                                   'Col5','6','7','8','9','10','11'])\n",
    "\n",
    "#WaferW = kdf[kdf['Col1'].str.contains('Wafer Width')]\n",
    "\n",
    "def Search(term):\n",
    "    \"\"\"\n",
    "    Returns properties described by 'term'\n",
    "    \"\"\"\n",
    "    item = datafile[datafile['Col1'].str.contains(term)] # allows search for term\n",
    "    return item['Col1'].index\n",
    "\n",
    "measuredPoints = Search('Measured Die')\n",
    "dieSite = Search('Die x').values\n",
    "\n",
    "firstSite = dieSite+1\n",
    "lengthArray = datafile.iloc[measuredPoints,1].values[0]\n",
    "lengthArrayNos = int(lengthArray)\n",
    "#arrayEnd = (dieSite+1)+int(datafile.loc[measuredPoints,1].values[0])\n",
    "arrayEnd = firstSite + lengthArrayNos\n",
    "xyzValues = datafile.iloc[firstSite:arrayEnd,0:3]\n",
    "\n",
    "\n",
    "###  Setting out the coordinates in an appropriate Dataframe   ####\n",
    "###     and formatted correctly for further manipulation       ####\n",
    "\n",
    "Xobjs = xyzValues['Col1'].values\n",
    "Yobjs = xyzValues['Col2'].values\n",
    "Zobjs = xyzValues['Col3'].values\n",
    "XInts = [int(float(x)) for x in Xobjs]\n",
    "YInts = [int(float(y)) for y in Yobjs]\n",
    "ZInts = [int(float(z)) for z in Zobjs]\n",
    "df = pd.DataFrame()\n",
    "df['x'] = XInts\n",
    "df['y'] = YInts\n",
    "df['z'] = ZInts\n",
    "x = df['x']\n",
    "y = df['y']\n",
    "z = df['z']\n",
    "\n",
    "x1 = np.linspace(df['x'].min(), df['x'].max(), 50) # edit 25 to len(df['x'].unique()))\n",
    "y1 = np.linspace(df['y'].min(), df['y'].max(), 50) # edit 25 to len(df['y'].unique()))\n",
    "x2, y2 = np.meshgrid(x1, y1)\n",
    "z2 = griddata((df['x'], df['y']), df['z'], (x2, y2), method='cubic')\n",
    "\n",
    "fig = plt.figure()\n",
    "ax = fig.gca(projection='3d')\n",
    "surf = ax.plot_surface(x2, y2, z2, rstride=1, cstride=1, cmap=cm.coolwarm,\n",
    "    linewidth=0.05, antialiased=False)\n",
    "\n",
    "# # # # # # # # # # # # # # #   Plot Settings (axes, angle, )   # # # # # # # # # # # # # # # # # # #\n",
    "\n",
    "ax.set_zlim(min(z), max(z))\n",
    "ax.zaxis.set_major_locator(LinearLocator(10))\n",
    "ax.zaxis.set_major_formatter(FormatStrFormatter('%.02f'))\n",
    "ax.azim = 135\n",
    "ax.elev = 20\n",
    "fig.colorbar(surf, shrink=0.5, aspect=10)\n",
    "plt.title(title)\n",
    "#\n",
    "plt.show()\n",
    "\n",
    "\n",
    "# # # # # # # # # # # # # # # #   Details for saving the file   # # # # # # # # # # # # # # # # # # # #\n",
    "\n",
    "pdf_name = os.path.splitext(path)[0]+'.pdf'\n",
    "pylab.savefig(pdf_name)\n",
    "\n",
    "\n",
    "Parameter_WhereIs = datafile[datafile['Col1'].str.contains('Parameter')].index\n",
    "PIIndex = Parameter_WhereIs.values\n",
    "FilmParam_DF = datafile.iloc[PIIndex:PIIndex+2,0:11]\n",
    "\n",
    "\n",
    "params_file = os.path.splitext(path)[0]+'.csv'\n",
    "\n",
    "FilmParam_DF.to_csv(params_file, index=False, header = False)"
   ]
  },
  {
   "cell_type": "code",
   "execution_count": null,
   "metadata": {
    "collapsed": false
   },
   "outputs": [],
   "source": [
    "#### NICE BIT OF CODE HERE TO GENERATE 360 ROTATING IMAGES \n",
    "#for i in range(0,360,1):\n",
    "#        ax.view_init(elev=10., azim=i)\n",
    "#        pylab.savefig('Movie PNGs/movie%d.png'%i)"
   ]
  },
  {
   "cell_type": "markdown",
   "metadata": {},
   "source": [
    "## Script to look in to plotting of text on graphs"
   ]
  },
  {
   "cell_type": "code",
   "execution_count": null,
   "metadata": {
    "collapsed": false
   },
   "outputs": [],
   "source": [
    "import matplotlib.pyplot as plt\n",
    "\n",
    "fig = plt.figure()\n",
    "plt.axis([0, 10, 0, 10])\n",
    "t = \"This is a really long string that I'd rather have wrapped so that it\"\\\n",
    "    \" doesn't go outside of the figure, but if it's long enough it will go\"\\\n",
    "    \" off the top or bottom!\"\n",
    "plt.text(10, 1, t, ha='left', rotation=0, wrap=True)\n",
    "#plt.text(6, 5, t, ha='left', rotation=15, wrap=True)\n",
    "#plt.text(5, 5, t, ha='right', rotation=-15, wrap=True)\n",
    "#plt.text(5, 10, t, fontsize=18, style='oblique', ha='center',\n",
    "#        va='top', wrap=True)\n",
    "#plt.text(3, 4, t, family='serif', style='italic', ha='right', wrap=True)\n",
    "#plt.text(-1, 0, t, ha='left', rotation=-15, wrap=True)\n",
    "\n",
    "plt.show()"
   ]
  },
  {
   "cell_type": "markdown",
   "metadata": {},
   "source": [
    "## Code to write a table"
   ]
  },
  {
   "cell_type": "code",
   "execution_count": null,
   "metadata": {
    "collapsed": false
   },
   "outputs": [],
   "source": [
    "clust_data = [[  66386,  174296,   75131],\n",
    "        [  58230,  381139,   78045],\n",
    "        [  89135,   80552,  152558]]\n",
    "\n",
    "for struct, energy, density in clust_data:\n",
    "    fig=plt.figure()\n",
    "    ax = plt.gca()\n",
    "    ax.xaxis.set_visible(False)\n",
    "    ax.yaxis.set_visible(False)\n",
    "    colLabels=(\"Structure\", \"Energy\", \"Density\")\n",
    "    rows=len(clust_data)\n",
    "    cellText=[]\n",
    "    for row in clust_data:\n",
    "        cellText.append(row)\n",
    "    the_table = ax.table(cellText=cellText,\n",
    "              colLabels=colLabels,\n",
    "              loc='center')\n",
    "    plt.savefig(\"table.png\")"
   ]
  },
  {
   "cell_type": "markdown",
   "metadata": {},
   "source": [
    "## More code to write a table with better layout"
   ]
  },
  {
   "cell_type": "code",
   "execution_count": null,
   "metadata": {
    "collapsed": false
   },
   "outputs": [],
   "source": [
    "clust_data = [[  66386,  174296,   75131],\n",
    "        [  58230,  381139,   78045],\n",
    "        [  89135,   80552,  152558]]\n",
    "\n",
    "colLabels=(\"Structure\", \"Energy\", \"Density\")\n",
    "nrows, ncols = len(clust_data)+1, len(colLabels)\n",
    "hcell, wcell = 0.3, 1.\n",
    "hpad, wpad = 0, 0    \n",
    "fig=plt.figure(figsize=(ncols*wcell+wpad, nrows*hcell+hpad))\n",
    "ax = fig.add_subplot(111)\n",
    "ax.axis('off')\n",
    "#do the table\n",
    "the_table = ax.table(cellText=clust_data,\n",
    "          colLabels=colLabels,\n",
    "          loc='center')\n",
    "plt.savefig(\"table.png\")"
   ]
  },
  {
   "cell_type": "code",
   "execution_count": null,
   "metadata": {
    "collapsed": true
   },
   "outputs": [],
   "source": []
  }
 ],
 "metadata": {
  "kernelspec": {
   "display_name": "Python 3",
   "language": "python",
   "name": "python3"
  },
  "language_info": {
   "codemirror_mode": {
    "name": "ipython",
    "version": 3
   },
   "file_extension": ".py",
   "mimetype": "text/x-python",
   "name": "python",
   "nbconvert_exporter": "python",
   "pygments_lexer": "ipython3",
   "version": "3.4.3"
  }
 },
 "nbformat": 4,
 "nbformat_minor": 0
}
