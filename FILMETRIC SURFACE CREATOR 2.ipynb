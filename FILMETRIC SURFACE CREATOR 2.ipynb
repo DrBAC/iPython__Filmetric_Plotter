{
 "cells": [
  {
   "cell_type": "markdown",
   "metadata": {},
   "source": [
    "THIS IS FOR ANALYSIS OF FILMETRICS DATA - CREATING SURFACES AND ULTIMATELY LISTING DATA COLLECTED ON F50"
   ]
  },
  {
   "cell_type": "code",
   "execution_count": 1,
   "metadata": {
    "collapsed": false,
    "scrolled": true
   },
   "outputs": [
    {
     "name": "stderr",
     "output_type": "stream",
     "text": [
      "C:\\Users\\ben.coombs\\Local_Docs\\WinPython\\python-3.4.3\\lib\\site-packages\\pandas\\core\\indexing.py:1465: FutureWarning: slice indexers when using iloc should be integers and not floating point\n",
      "  retval = getattr(retval, self.name)._getitem_axis(key, axis=axis)\n"
     ]
    }
   ],
   "source": [
    "import pandas as pd\n",
    "import sys\n",
    "import numpy as np\n",
    "import os\n",
    "from mpl_toolkits.mplot3d import Axes3D\n",
    "from matplotlib import cm\n",
    "from matplotlib.ticker import LinearLocator, FormatStrFormatter\n",
    "import matplotlib.pyplot as plt\n",
    "import pylab\n",
    "from scipy.interpolate import griddata\n",
    "\n",
    "path = '../RAW DATA FILES FOR ANALYSIS/FIMAPS/220316-BAC_ND6.fimap'\n",
    "\n",
    "title = path.split('/')[-1]\n",
    "rootpath = path.split('/')[:-1]\n",
    "\n",
    "datafile = pd.read_csv(path,names=['Col1','Col2','Col3','Col4'])\n",
    "\n",
    "#WaferW = kdf[kdf['Col1'].str.contains('Wafer Width')]\n",
    "#SiteIndexing = kdf[kdf['Key'].str.contains('Site_')]\n",
    "\n",
    "def Search(term):\n",
    "    \"\"\"\n",
    "    Returns properties described by 'term'\n",
    "    \"\"\"\n",
    "    item = datafile[datafile['Col1'].str.contains(term)] # allows search for term\n",
    "    return item['Col1'].index\n",
    "\n",
    "measuredPoints = Search('Measured Die')\n",
    "dieSite = Search('Die x').values\n",
    "\n",
    "firstSite = dieSite+1\n",
    "lengthArray = datafile.iloc[measuredPoints,1].values[0]\n",
    "lengthArrayNos = int(lengthArray)\n",
    "#arrayEnd = (dieSite+1)+int(datafile.loc[measuredPoints,1].values[0])\n",
    "arrayEnd = firstSite + lengthArrayNos\n",
    "xyzValues = datafile.iloc[firstSite:arrayEnd,0:3]\n",
    "\n",
    "Xobjs = xyzValues['Col1'].values\n",
    "Yobjs = xyzValues['Col2'].values\n",
    "Zobjs = xyzValues['Col3'].values\n",
    "\n",
    "XInts = [int(float(x)) for x in Xobjs]\n",
    "YInts = [int(float(y)) for y in Yobjs]\n",
    "ZInts = [int(float(z)) for z in Zobjs]\n",
    "\n",
    "df = pd.DataFrame()\n",
    "df['x'] = XInts\n",
    "df['y'] = YInts\n",
    "df['z'] = ZInts"
   ]
  },
  {
   "cell_type": "code",
   "execution_count": 2,
   "metadata": {
    "collapsed": false
   },
   "outputs": [],
   "source": [
    "x=df['x']\n",
    "y=df['y']\n",
    "z=df['z']\n",
    "\n",
    "x1 = np.linspace(df['x'].min(), df['x'].max(), 25)#len(df['x'].unique()))\n",
    "y1 = np.linspace(df['y'].min(), df['y'].max(), 25)#len(df['y'].unique()))\n",
    "x2, y2 = np.meshgrid(x1, y1)\n",
    "#z2 = griddata((df['x'], df['y']), df['z'], (x2, y2), method='linear')\n",
    "z2 = griddata((df['x'], df['y']), df['z'], (x2, y2), method='cubic')\n",
    "\n"
   ]
  },
  {
   "cell_type": "code",
   "execution_count": 3,
   "metadata": {
    "collapsed": false
   },
   "outputs": [],
   "source": [
    "fig = plt.figure()\n",
    "ax = fig.gca(projection='3d')\n",
    "surf = ax.plot_surface(x2, y2, z2, rstride=1, cstride=1, cmap=cm.coolwarm,\n",
    "    linewidth=0.05, antialiased=False)\n",
    "ax.set_zlim(min(z)-200, max(z)+200)\n",
    "\n",
    "ax.zaxis.set_major_locator(LinearLocator(10))\n",
    "ax.zaxis.set_major_formatter(FormatStrFormatter('%.02f'))\n",
    "\n",
    "fig.colorbar(surf, shrink=0.5, aspect=10)\n",
    "plt.title(title)\n",
    "# ~~~~ MODIFICATION TO EXAMPLE ENDS HERE ~~~~ #\n",
    "\n",
    "plt.show()\n",
    "\n",
    "# KICKS OUT THE GRAPH\n",
    "# saves it to name of original input file but with pdf suffix\n",
    "#pdf_name = os.path.splitext(path)[0]+'.pdf'\n",
    "#pylab.savefig(pdf_name)"
   ]
  },
  {
   "cell_type": "code",
   "execution_count": 4,
   "metadata": {
    "collapsed": true
   },
   "outputs": [],
   "source": [
    "import matplotlib.pyplot as plt\n",
    "\n",
    "fig = plt.figure()\n",
    "plt.axis([0, 10, 0, 10])\n",
    "t = \"This is a really long string that I'd rather have wrapped so that it\"\\\n",
    "    \" doesn't go outside of the figure, but if it's long enough it will go\"\\\n",
    "    \" off the top or bottom!\"\n",
    "plt.text(4, 1, t, ha='left', rotation=15, wrap=True)\n",
    "plt.text(6, 5, t, ha='left', rotation=15, wrap=True)\n",
    "plt.text(5, 5, t, ha='right', rotation=-15, wrap=True)\n",
    "plt.text(5, 10, t, fontsize=18, style='oblique', ha='center',\n",
    "        va='top', wrap=False)\n",
    "plt.text(3, 4, t, family='serif', style='italic', ha='right', wrap=True)\n",
    "plt.text(-1, 0, t, ha='left', rotation=-15, wrap=True)\n",
    "\n",
    "plt.show()"
   ]
  },
  {
   "cell_type": "code",
   "execution_count": null,
   "metadata": {
    "collapsed": true
   },
   "outputs": [],
   "source": []
  },
  {
   "cell_type": "code",
   "execution_count": null,
   "metadata": {
    "collapsed": true
   },
   "outputs": [],
   "source": []
  }
 ],
 "metadata": {
  "kernelspec": {
   "display_name": "Python 3",
   "language": "python",
   "name": "python3"
  },
  "language_info": {
   "codemirror_mode": {
    "name": "ipython",
    "version": 3
   },
   "file_extension": ".py",
   "mimetype": "text/x-python",
   "name": "python",
   "nbconvert_exporter": "python",
   "pygments_lexer": "ipython3",
   "version": "3.4.3"
  }
 },
 "nbformat": 4,
 "nbformat_minor": 0
}
